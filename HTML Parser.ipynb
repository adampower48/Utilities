{
 "cells": [
  {
   "cell_type": "code",
   "execution_count": 1,
   "metadata": {},
   "outputs": [],
   "source": [
    "import requests\n",
    "import json\n",
    "import html.parser"
   ]
  },
  {
   "cell_type": "code",
   "execution_count": 2,
   "metadata": {},
   "outputs": [],
   "source": [
    "class Tag:\n",
    "    def __init__(self, _type, content, start_pos, end_pos, attrs):\n",
    "        self.type = _type\n",
    "        self.content = content\n",
    "        self.content_pos = start_pos\n",
    "        self.attrs = attrs if attrs else []\n",
    "        \n",
    "    def __str__(self):\n",
    "        return \"Tag:\\t{}\\nContent:\\t{}\\nAttrs:\\t{}\\nPos:\\t{}\".format(\n",
    "            self.type, self.content, \", \".join(self.attrs), self.content_pos)"
   ]
  },
  {
   "cell_type": "code",
   "execution_count": 3,
   "metadata": {},
   "outputs": [],
   "source": [
    "req = requests.get(\"https://poodle.computing.dcu.ie/\")\n"
   ]
  },
  {
   "cell_type": "code",
   "execution_count": 4,
   "metadata": {},
   "outputs": [
    {
     "data": {
      "text/plain": [
       "'\\n<!DOCTYPE html PUBLIC \"-//W3C//DTD XHTML 1.0 Transitional//EN\" \"http://www.w3.org/TR/xhtml1/DTD/xhtml1-transitional.dtd\">\\n<html xmlns=\"http://www.w3.org/1999/xhtml\">\\n  <!--\\n    Modified from the Debian original for Ubuntu\\n    Last updated: 2014-03-19\\n    See: https://launchpad.net/bugs/1288690\\n  -->\\n  <head>\\n    <meta http-equiv=\"Content-Type\" content=\"text/html; charset=UTF-8\" />\\n    <title>Poodle ... a moodle for programming</title>\\n\\n  <body>\\n<h1>Hi, welcome!</h1>\\n<p>This web page is so nice that it welcomes you!</p>\\n<p>Here you will find:</p>\\n<ol>\\n<li><a href=\"/moodle/course/view.php?id=4\">ca268: Computer Programming 3</a></li>\\n<li><a href=\"/moodle/course/view.php?id=5\">ca318: Advanced Algorithms and AI search</a></li>\\n\\n</ol>\\n  </body>\\n</html>\\n\\n'"
      ]
     },
     "execution_count": 4,
     "metadata": {},
     "output_type": "execute_result"
    }
   ],
   "source": [
    "req.text"
   ]
  },
  {
   "cell_type": "code",
   "execution_count": 31,
   "metadata": {},
   "outputs": [],
   "source": [
    "class MyHTMLParser(html.parser.HTMLParser):\n",
    "    def __init__(self):\n",
    "        super().__init__()\n",
    "        self.stack = []\n",
    "        self.tags = []\n",
    "        \n",
    "    def handle_starttag(self, tag, attrs):\n",
    "        print(\"START:\\t\", tag)\n",
    "        xy = self.getpos()\n",
    "        start = (xy[0] - 1, xy[1] + len(tag) + 2) # Fix index (breaks tags like <meta ... />)\n",
    "        \n",
    "        self.stack.append((tag, start))\n",
    "#         print(\"Start tag:\", tag)\n",
    "#         for attr in attrs:\n",
    "#             print(\"     attr:\", attr)\n",
    "            \n",
    "    def handle_endtag(self, tag):\n",
    "        print(\"END:\\t\", tag)\n",
    "        \n",
    "        xy = self.getpos()\n",
    "        end = (xy[0]-1, xy[1]) # Fix index\n",
    "        \n",
    "        while self.stack[-1][0] == \"data\":\n",
    "            t_cont = self.stack.pop()\n",
    "            \n",
    "        self.tags.append((\"/\".join(t[0] for t in self.stack), self.stack[-1][1], end))\n",
    "        self.stack.pop()\n",
    "        \n",
    "    def handle_startendtag(self, tag, attrs):\n",
    "        pass\n",
    "    \n",
    "    def handle_data(self, data):\n",
    "        xy = self.getpos()\n",
    "        start = (xy[0] - 1, xy[1]) # Fix index\n",
    "        d_split = data.split(\"\\n\")\n",
    "        end = (start[0]+len(d_split)-1, len(d_split[-1]))\n",
    "        \n",
    "        self.stack.append((\"data\", start, end))\n",
    "        \n",
    "        "
   ]
  },
  {
   "cell_type": "code",
   "execution_count": 32,
   "metadata": {},
   "outputs": [],
   "source": [
    "ps = MyHTMLParser()"
   ]
  },
  {
   "cell_type": "code",
   "execution_count": 33,
   "metadata": {},
   "outputs": [
    {
     "name": "stdout",
     "output_type": "stream",
     "text": [
      "START:\t html\n",
      "START:\t head\n",
      "START:\t title\n",
      "END:\t title\n",
      "START:\t body\n",
      "START:\t h1\n",
      "END:\t h1\n",
      "START:\t p\n",
      "END:\t p\n",
      "START:\t p\n",
      "END:\t p\n",
      "START:\t ol\n",
      "START:\t li\n",
      "START:\t a\n",
      "END:\t a\n",
      "END:\t li\n",
      "START:\t li\n",
      "START:\t a\n",
      "END:\t a\n",
      "END:\t li\n",
      "END:\t ol\n",
      "END:\t body\n",
      "END:\t html\n"
     ]
    },
    {
     "data": {
      "text/plain": [
       "[('data/data/html/data/data/head/data/data/title', (10, 11), (10, 46)),\n",
       " ('data/data/html/data/data/head/data/data/data/body/data/h1',\n",
       "  (13, 4),\n",
       "  (13, 16)),\n",
       " ('data/data/html/data/data/head/data/data/data/body/data/data/p',\n",
       "  (14, 3),\n",
       "  (14, 49)),\n",
       " ('data/data/html/data/data/head/data/data/data/body/data/data/data/p',\n",
       "  (15, 3),\n",
       "  (15, 22)),\n",
       " ('data/data/html/data/data/head/data/data/data/body/data/data/data/data/ol/data/li/a',\n",
       "  (17, 7),\n",
       "  (17, 72)),\n",
       " ('data/data/html/data/data/head/data/data/data/body/data/data/data/data/ol/data/li',\n",
       "  (17, 4),\n",
       "  (17, 76)),\n",
       " ('data/data/html/data/data/head/data/data/data/body/data/data/data/data/ol/data/data/li/a',\n",
       "  (18, 7),\n",
       "  (18, 83)),\n",
       " ('data/data/html/data/data/head/data/data/data/body/data/data/data/data/ol/data/data/li',\n",
       "  (18, 4),\n",
       "  (18, 87)),\n",
       " ('data/data/html/data/data/head/data/data/data/body/data/data/data/data/ol',\n",
       "  (16, 4),\n",
       "  (20, 0)),\n",
       " ('data/data/html/data/data/head/data/data/data/body', (12, 8), (21, 2)),\n",
       " ('data/data/html/data/data/head', (8, 8), (22, 0))]"
      ]
     },
     "execution_count": 33,
     "metadata": {},
     "output_type": "execute_result"
    }
   ],
   "source": [
    "ps.reset()\n",
    "ps.feed(req.text)\n",
    "ps.tags"
   ]
  },
  {
   "cell_type": "code",
   "execution_count": 8,
   "metadata": {},
   "outputs": [],
   "source": [
    "def get_content(text, start_cr, end_cr):\n",
    "    lines = text.split(\"\\n\")\n",
    "    content = []\n",
    "    \n",
    "    if start_cr[0] == end_cr[0]:\n",
    "        return lines[start_cr[0]][start_cr[1]:end_cr[1]]\n",
    "    \n",
    "    content.append(lines[start_cr[0]][start_cr[1]:])\n",
    "    content += lines[start_cr[0] + 1:end_cr[0]]\n",
    "    content.append(lines[end_cr[0]][:end_cr[1]])\n",
    "    return \"\\n\".join(content)"
   ]
  },
  {
   "cell_type": "code",
   "execution_count": 17,
   "metadata": {},
   "outputs": [],
   "source": [
    "tags = []\n",
    "for tag in ps.tags:\n",
    "    _type = tag[0].split(\"/\")[-1]\n",
    "    \n",
    "    t_cont = get_content(req.text, tag[1], tag[2])\n",
    "    \n",
    "    if tag[1][0] == tag[2][0] and tag[1][1] > tag[2][1]:\n",
    "        start_pos = tag[2]\n",
    "    else:\n",
    "        start_pos = tag[1]\n",
    "    \n",
    "    end_pos = tag[2]\n",
    "    \n",
    "    \n",
    "    tags.append(Tag(_type, t_cont, start_pos, end_pos, []))\n",
    "\n"
   ]
  },
  {
   "cell_type": "code",
   "execution_count": 18,
   "metadata": {},
   "outputs": [
    {
     "name": "stdout",
     "output_type": "stream",
     "text": [
      "Tag:\tdata\n",
      "Content:\tPoodle ... a moodle for programming\n",
      "Attrs:\t\n",
      "Pos:\t(10, 11)\n",
      "Tag:\tdata\n",
      "Content:\tHi, welcome!\n",
      "Attrs:\t\n",
      "Pos:\t(13, 4)\n",
      "Tag:\tdata\n",
      "Content:\tThis web page is so nice that it welcomes you!\n",
      "Attrs:\t\n",
      "Pos:\t(14, 3)\n",
      "Tag:\tdata\n",
      "Content:\tHere you will find:\n",
      "Attrs:\t\n",
      "Pos:\t(15, 3)\n",
      "Tag:\tdata\n",
      "Content:\tca268: Computer Programming 3\n",
      "Attrs:\t\n",
      "Pos:\t(17, 43)\n",
      "Tag:\ta\n",
      "Content:\thref=\"/moodle/course/view.php?id=4\">ca268: Computer Programming 3</a>\n",
      "Attrs:\t\n",
      "Pos:\t(17, 7)\n",
      "Tag:\tdata\n",
      "Content:\tca318: Advanced Algorithms and AI search\n",
      "Attrs:\t\n",
      "Pos:\t(18, 43)\n",
      "Tag:\ta\n",
      "Content:\thref=\"/moodle/course/view.php?id=5\">ca318: Advanced Algorithms and AI search</a>\n",
      "Attrs:\t\n",
      "Pos:\t(18, 7)\n",
      "Tag:\tdata\n",
      "Content:\t\n",
      "\n",
      "\n",
      "Attrs:\t\n",
      "Pos:\t(18, 92)\n",
      "Tag:\tdata\n",
      "Content:\t\n",
      "  \n",
      "Attrs:\t\n",
      "Pos:\t(20, 5)\n",
      "Tag:\tdata\n",
      "Content:\t\n",
      "\n",
      "Attrs:\t\n",
      "Pos:\t(21, 9)\n"
     ]
    }
   ],
   "source": [
    "print(*tags, sep=\"\\n\")"
   ]
  },
  {
   "cell_type": "code",
   "execution_count": null,
   "metadata": {},
   "outputs": [],
   "source": []
  }
 ],
 "metadata": {
  "kernelspec": {
   "display_name": "Python 3",
   "language": "python",
   "name": "python3"
  },
  "language_info": {
   "codemirror_mode": {
    "name": "ipython",
    "version": 3
   },
   "file_extension": ".py",
   "mimetype": "text/x-python",
   "name": "python",
   "nbconvert_exporter": "python",
   "pygments_lexer": "ipython3",
   "version": "3.6.5"
  }
 },
 "nbformat": 4,
 "nbformat_minor": 2
}
